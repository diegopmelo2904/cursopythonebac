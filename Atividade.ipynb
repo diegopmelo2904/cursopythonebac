{
  "nbformat": 4,
  "nbformat_minor": 0,
  "metadata": {
    "colab": {
      "provenance": []
    },
    "kernelspec": {
      "name": "python3",
      "display_name": "Python 3"
    },
    "language_info": {
      "name": "python"
    }
  },
  "cells": [
    {
      "cell_type": "markdown",
      "source": [
        "# Calculadora\n",
        "\n",
        "O seguinte trabalho, pedido pela EBAC, consiste em elaborar uma calculadora. Aqui, apresento três soluções: uma de comandos mais simples e as outras duas mais complexas, que envolvem mais comandos. Observe:\n",
        "\n",
        "## Solução 1 (mais simples)\n",
        "\n",
        "A primeira solução envolve escolher dois números antecipadamente e, depois, selecionar a operação que será realizada entre os dois:"
      ],
      "metadata": {
        "id": "ZbeKaYAqsZDN"
      }
    },
    {
      "cell_type": "code",
      "source": [
        "num1 = input(\"Digite o primeiro número: \")\n",
        "num2 = input(\"Digite o segundo número: \")\n",
        "\n",
        "convert_num1 = float(num1)\n",
        "convert_num2 = float(num2)\n",
        "\n",
        "print(convert_num1)\n",
        "print(convert_num2)\n",
        "\n",
        "\n",
        "print(\"\\nEscolha a operação desejada:\")\n",
        "print(\"1. Adição\")\n",
        "print(\"2. Subtração\")\n",
        "print(\"3. Multiplicação\")\n",
        "print(\"4. Divisão\")\n",
        "\n",
        "operacao = input(\"Digite o número da operação desejada\" )\n",
        "\n",
        "if operacao == \"1\":\n",
        "    resultado = convert_num1 + convert_num2\n",
        "    print(f\"\\nResultado da adição: {resultado}\")\n",
        "elif operacao == \"2\":\n",
        "    resultado = convert_num1 - convert_num2\n",
        "    print(f\"\\nResultado da subtração: {resultado}\")\n",
        "elif operacao == \"3\":\n",
        "    resultado = convert_num1 * convert_num2\n",
        "    print(f\"\\nResultado da multiplicação: {resultado}\")\n",
        "elif operacao == \"4\":\n",
        "    resultado = convert_num1 / convert_num2\n",
        "    print(f\"\\nResultado da divisão: {resultado}\")\n",
        "else:\n",
        "    print(\"Número errado! Retome o processo e escolha um número de 1 a 4\")"
      ],
      "metadata": {
        "colab": {
          "base_uri": "https://localhost:8080/"
        },
        "id": "e_ye45l8skM2",
        "outputId": "a94bfb0c-2374-4bbb-ee8d-66687e0d8dba"
      },
      "execution_count": null,
      "outputs": [
        {
          "output_type": "stream",
          "name": "stdout",
          "text": [
            "Digite o primeiro número: 20\n",
            "Digite o segundo número: 24\n",
            "20.0\n",
            "24.0\n",
            "\n",
            "Escolha a operação desejada:\n",
            "1. Adição\n",
            "2. Subtração\n",
            "3. Multiplicação\n",
            "4. Divisão\n",
            "Digite o número da operação desejada8\n",
            "Operação inválida\n"
          ]
        }
      ]
    },
    {
      "cell_type": "markdown",
      "source": [
        "## Solução 2 (mais complexa)\n",
        "\n",
        "A segunda solução segue uma sequência mais comum nas calculadoras. Assim, envolve os seguintes passos:\n",
        "\n",
        "\n",
        "*   Escolha um número;\n",
        "*   Escolha a operação;\n",
        "*   Escolha o segundo número para a operação."
      ],
      "metadata": {
        "id": "rkmjvmLazuD4"
      }
    },
    {
      "cell_type": "code",
      "source": [
        "num1 = input(\"Digite um número: \")\n",
        "\n",
        "convert_num1 = float(num1)\n",
        "\n",
        "print(convert_num1)\n",
        "\n",
        "\n",
        "print(\"\\nEscolha a operação desejada:\")\n",
        "print(\"1. Adição\")\n",
        "print(\"2. Subtração\")\n",
        "print(\"3. Multiplicação\")\n",
        "print(\"4. Divisão\")\n",
        "\n",
        "operacao = input(\"Digite o número da operação desejada: \" )\n",
        "\n",
        "if operacao == \"1\":\n",
        "  num2 = input(\"Digite um número que vai somar com \" + str(convert_num1) + \": \")\n",
        "  convert_num2 = float(num2)\n",
        "  resultado = convert_num1 + convert_num2\n",
        "  print(f\"\\nResultado da adição: {resultado}\")\n",
        "\n",
        "elif operacao == \"2\":\n",
        "  num2 = input(\"Digite um número que será o subtraendo de \" + str(convert_num1) + \": \")\n",
        "  convert_num2 = float(num2)\n",
        "  resultado = convert_num1 - convert_num2\n",
        "  print(f\"\\nResultado da subtração: {resultado}\")\n",
        "\n",
        "elif operacao == \"3\":\n",
        "  num2 = input(\"Digite um número que será multiplicado por \" + str(convert_num1) + \": \")\n",
        "  convert_num2 = float(num2)\n",
        "  resultado = convert_num1 * convert_num2\n",
        "  print(f\"\\nResultado da multiplicação: {resultado}\")\n",
        "\n",
        "elif operacao == \"4\":\n",
        "  num2 = input(\"Digite um número que será o divisor de \" + str(convert_num1) + \": \")\n",
        "  convert_num2 = float(num2)\n",
        "  resultado = convert_num1 / convert_num2\n",
        "  print(f\"\\nResultado da divisão: {resultado}\")\n",
        "\n",
        "else:\n",
        "  print(\"Número errado! Retome o processo e scolha um número de 1 a 4\")"
      ],
      "metadata": {
        "colab": {
          "base_uri": "https://localhost:8080/"
        },
        "id": "I1CsOOibxMXk",
        "outputId": "abc88d74-bbef-48c7-b6b9-82f18e315f50"
      },
      "execution_count": null,
      "outputs": [
        {
          "output_type": "stream",
          "name": "stdout",
          "text": [
            "Digite um número: 37\n",
            "37.0\n",
            "\n",
            "Escolha a operação desejada:\n",
            "1. Adição\n",
            "2. Subtração\n",
            "3. Multiplicação\n",
            "4. Divisão\n",
            "Digite o número da operação desejada: 3\n",
            "Digite um número que será multiplicado por 37.0: 56000000000\n",
            "\n",
            "Resultado da multiplicação: 2072000000000.0\n"
          ]
        }
      ]
    },
    {
      "cell_type": "markdown",
      "source": [
        "## Solução 3\n",
        "\n",
        "Por fim, a terceira solução se assemelha à segunda, mas aqui, ao errar o número da operação, a máquina permite ainda mais uma chance para inserir o número correto!"
      ],
      "metadata": {
        "id": "ZGJT7cG6ag2m"
      }
    },
    {
      "cell_type": "code",
      "source": [
        "num1 = input(\"Digite um número: \")\n",
        "\n",
        "convert_num1 = float(num1)\n",
        "\n",
        "print(convert_num1)\n",
        "\n",
        "\n",
        "print(\"\\nEscolha a operação desejada:\")\n",
        "print(\"1. Adição\")\n",
        "print(\"2. Subtração\")\n",
        "print(\"3. Multiplicação\")\n",
        "print(\"4. Divisão\")\n",
        "\n",
        "operacao = input(\"Digite o número da operação desejada: \" )\n",
        "\n",
        "if operacao == \"1\":\n",
        "  num2 = input(\"Digite um número que vai somar com \" + str(convert_num1) + \": \")\n",
        "  convert_num2 = float(num2)\n",
        "  resultado = convert_num1 + convert_num2\n",
        "  print(f\"\\nResultado da adição: {resultado}\")\n",
        "\n",
        "elif operacao == \"2\":\n",
        "  num2 = input(\"Digite um número que será o subtraendo de \" + str(convert_num1) + \": \")\n",
        "  convert_num2 = float(num2)\n",
        "  resultado = convert_num1 - convert_num2\n",
        "  print(f\"\\nResultado da subtração: {resultado}\")\n",
        "\n",
        "elif operacao == \"3\":\n",
        "  num2 = input(\"Digite um número que será multiplicado por \" + str(convert_num1) + \": \")\n",
        "  convert_num2 = float(num2)\n",
        "  resultado = convert_num1 * convert_num2\n",
        "  print(f\"\\nResultado da multiplicação: {resultado}\")\n",
        "\n",
        "elif operacao == \"4\":\n",
        "  num2 = input(\"Digite um número que será o divisor de \" + str(convert_num1) + \": \")\n",
        "  convert_num2 = float(num2)\n",
        "  resultado = convert_num1 / convert_num2\n",
        "  print(f\"\\nResultado da divisão: {resultado}\")\n",
        "\n",
        "elif operacao >= \"5\":\n",
        "  operacao = input (\"Número errado! Escolha um número de 1 a 4. Tente mais uma vez: \" )\n",
        "  if operacao == \"1\":\n",
        "    num2 = input(\"Digite um número que vai somar com \" + str(convert_num1) + \": \")\n",
        "    convert_num2 = float(num2)\n",
        "    resultado = convert_num1 + convert_num2\n",
        "    print(f\"\\nResultado da adição: {resultado}\")\n",
        "\n",
        "  elif operacao == \"2\":\n",
        "    num2 = input(\"Digite um número que será o subtraendo de \" + str(convert_num1) + \": \")\n",
        "    convert_num2 = float(num2)\n",
        "    resultado = convert_num1 - convert_num2\n",
        "    print(f\"\\nResultado da subtração: {resultado}\")\n",
        "\n",
        "  elif operacao == \"3\":\n",
        "    num2 = input(\"Digite um número que será multiplicado por \" + str(convert_num1) + \": \")\n",
        "    convert_num2 = float(num2)\n",
        "    resultado = convert_num1 * convert_num2\n",
        "    print(f\"\\nResultado da multiplicação: {resultado}\")\n",
        "\n",
        "  elif operacao == \"4\":\n",
        "    num2 = input(\"Digite um número que será o divisor de \" + str(convert_num1) + \": \")\n",
        "    convert_num2 = float(num2)\n",
        "    resultado = convert_num1 / convert_num2\n",
        "    print(f\"\\nResultado da divisão: {resultado}\")\n",
        "\n",
        "  else:\n",
        "    print(\"Operação cancelada! Retome o processo!\")"
      ],
      "metadata": {
        "colab": {
          "base_uri": "https://localhost:8080/"
        },
        "id": "CEmkNhNYaJpG",
        "outputId": "7389f0af-6afe-4f64-d189-0a5ab02f0143"
      },
      "execution_count": null,
      "outputs": [
        {
          "output_type": "stream",
          "name": "stdout",
          "text": [
            "Digite um número: 10\n",
            "10.0\n",
            "\n",
            "Escolha a operação desejada:\n",
            "1. Adição\n",
            "2. Subtração\n",
            "3. Multiplicação\n",
            "4. Divisão\n",
            "Digite o número da operação desejada: 6\n",
            "Número errado! Escolha um número de 1 a 4. Tente mais uma vez: 7\n",
            "Operação cancelada! Retome o processo!\n"
          ]
        }
      ]
    }
  ]
}